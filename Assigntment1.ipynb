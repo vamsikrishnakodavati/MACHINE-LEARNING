{
 "cells": [
  {
   "cell_type": "code",
   "execution_count": 25,
   "metadata": {
    "scrolled": false
   },
   "outputs": [
    {
     "name": "stdout",
     "output_type": "stream",
     "text": [
      "['V', 'A', 'M', 'S', 'I']\n"
     ]
    }
   ],
   "source": [
    "name_small = ['v', 'a', 'm', 's', 'i']\n",
    "name_upper = list(map(lambda s: str(s).upper(), name_small))\n",
    "print(name_upper)"
   ]
  },
  {
   "cell_type": "code",
   "execution_count": null,
   "metadata": {},
   "outputs": [],
   "source": [
    "name_small = list(map(lambda s: str(s).upper(), name_small))\n",
    "\n",
    "1) the map() function takes the two parameters 1.function 2.list as argument.\n",
    "2) With in the map function for each element in the list the operation would be carried on to make it to uppercase\n",
    "3) Now a new list is returned which contains all the lambda modified items."
   ]
  },
  {
   "cell_type": "code",
   "execution_count": 12,
   "metadata": {},
   "outputs": [
    {
     "name": "stdout",
     "output_type": "stream",
     "text": [
      "John\n",
      "36\n",
      "20 west river drive\n",
      "John says What a wonderful day!\n",
      "vamsi\n",
      "23\n",
      "lives in Dover, NH\n",
      "vamsi says yaaa it's been very nice out there!\n"
     ]
    }
   ],
   "source": [
    "class Person:\n",
    "  \n",
    "  def __init__(self, name, age, address):\n",
    "    self.name = name\n",
    "    self.age = age\n",
    "    self.address = address\n",
    "    \n",
    "    \n",
    "\n",
    "  def talk(self, words):\n",
    "    print(self.name + \" says \" + words)\n",
    "    \n",
    "  def location(self, city, state = \" NH\"):\n",
    "    print(\"lives in \" + city  +\",\" + state)\n",
    "    \n",
    "p1 = Person(\"John\", 36, \"20 west river drive\")\n",
    "p2 = Person(\"vamsi\", 23, \"21 west river drive\")\n",
    "print(p1.name)\n",
    "print(p1.age)\n",
    "print(p1.address)\n",
    "p1.talk(\"What a wonderful day!\")\n",
    "\n",
    "print(p2.name)\n",
    "print(p2.age)\n",
    "p2.location(\"Dover\")\n",
    "p2.talk(\"yaaa it's been very nice out there!\")"
   ]
  },
  {
   "cell_type": "code",
   "execution_count": null,
   "metadata": {},
   "outputs": [],
   "source": []
  },
  {
   "cell_type": "code",
   "execution_count": null,
   "metadata": {},
   "outputs": [],
   "source": []
  }
 ],
 "metadata": {
  "kernelspec": {
   "display_name": "Python 3",
   "language": "python",
   "name": "python3"
  },
  "language_info": {
   "codemirror_mode": {
    "name": "ipython",
    "version": 3
   },
   "file_extension": ".py",
   "mimetype": "text/x-python",
   "name": "python",
   "nbconvert_exporter": "python",
   "pygments_lexer": "ipython3",
   "version": "3.7.0"
  }
 },
 "nbformat": 4,
 "nbformat_minor": 2
}
